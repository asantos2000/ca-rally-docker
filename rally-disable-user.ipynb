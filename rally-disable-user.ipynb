{
 "cells": [
  {
   "cell_type": "markdown",
   "metadata": {},
   "source": [
    "# Automatizando CA Agile Central com python e a bibiloteca prally"
   ]
  },
  {
   "cell_type": "markdown",
   "metadata": {},
   "source": [
    "### Introdução\n",
    "\n",
    "Este notebook foi desenvolvido para interagir com as API's Rest do CA Agile Central versão 2.0.\n",
    "\n",
    "Para executá-lo você precisa configurar o endereço do seu servidor, usuário e senha nas variáveis de ambiente do docker.\n",
    "\n",
    "Para adicionar novas bibliotecas inclua-as na seção `imports`. Caso ocorra um erro `ModuleNotFoundError` e provável que a biblioteca não esteja instalada.\n",
    "\n",
    "Para instalá-la, adicone na seção `Install` o comando de instalação (Exemplo: `!pip install nome_da_biblioteca`).\n",
    "\n",
    "Para tornar a instalacao da biblioteca permanente (remover da seção `Install` e compartilhar com outros usuários), modifique o `Dockerfile` e crie uma nova imagem docker (ver README.md)."
   ]
  },
  {
   "cell_type": "markdown",
   "metadata": {},
   "source": [
    "#### Install"
   ]
  },
  {
   "cell_type": "code",
   "execution_count": null,
   "metadata": {},
   "outputs": [],
   "source": [
    "# Instale libs aqui"
   ]
  },
  {
   "cell_type": "markdown",
   "metadata": {},
   "source": [
    "#### Imports"
   ]
  },
  {
   "cell_type": "code",
   "execution_count": null,
   "metadata": {},
   "outputs": [],
   "source": [
    "# Imports\n",
    "import sys, os\n",
    "from pyral import Rally, rallyWorkset\n",
    "import requests\n",
    "import pyral\n",
    "import datetime"
   ]
  },
  {
   "cell_type": "markdown",
   "metadata": {},
   "source": [
    "#### Testes"
   ]
  },
  {
   "cell_type": "code",
   "execution_count": null,
   "metadata": {},
   "outputs": [],
   "source": [
    "print ('Verificando as versões:')\n",
    "\n",
    "print ('- Python ', sys.version)\n",
    "assert sys.version_info >= (3,6), \"Esperado versão python 3+\"\n",
    "\n",
    "print ('- pyral %s.%s.%s' % pyral.__version__)\n",
    "assert pyral.__version__ >= (1,4), \"Esperado versão pyral 1.4+\"\n",
    "\n",
    "print ('>>> OK.')\n",
    "\n",
    "print('\\nMy files:')\n",
    "!ls -la"
   ]
  },
  {
   "cell_type": "markdown",
   "metadata": {},
   "source": [
    "### Conectando com o servidor do CA Agile Central"
   ]
  },
  {
   "cell_type": "code",
   "execution_count": null,
   "metadata": {},
   "outputs": [],
   "source": [
    "rally = Rally(os.environ['RALLY_SERVER'], os.environ['RALLY_USER'], os.environ['RALLY_PASSWORD'])\n",
    "\n",
    "print ('CONECTADO')"
   ]
  },
  {
   "cell_type": "markdown",
   "metadata": {},
   "source": [
    "### Função: Habilitar/Desabiltar um usuário por id"
   ]
  },
  {
   "cell_type": "code",
   "execution_count": null,
   "metadata": {},
   "outputs": [],
   "source": [
    "def atualizar_usuario_por_id(object_id, disabled='true'):\n",
    "    # valore válidos para disabled: true ou false, padrão true\n",
    "\n",
    "    user_data = {\"ObjectID\" : object_id, \"Disabled\" : disabled}\n",
    "\n",
    "    try:\n",
    "        user = rally.update('User', user_data)\n",
    "    except Exception as details:\n",
    "        raise ValueError('Um erro ocorreu', details)\n",
    "\n",
    "    return \"Usuário %s atualizado para Disabled=%s\" % (user.UserName, user.Disabled)"
   ]
  },
  {
   "cell_type": "code",
   "execution_count": null,
   "metadata": {},
   "outputs": [],
   "source": [
    "# Testando a função\n",
    "now = datetime.datetime.now()\n",
    "\n",
    "try:\n",
    "    print (('[%s] %s') % (str(now), atualizar_usuario_por_id('121212121212', 'true')))\n",
    "except ValueError as err:\n",
    "    print(err.args)"
   ]
  },
  {
   "cell_type": "markdown",
   "metadata": {},
   "source": [
    "### Função: Pesquisar a lista de usuários"
   ]
  },
  {
   "cell_type": "code",
   "execution_count": null,
   "metadata": {
    "scrolled": true
   },
   "outputs": [],
   "source": [
    "def pesquisar_usuarios(query_criteria):\n",
    "    \n",
    "    response = rally.get('User', fetch=True, query=query_criteria)\n",
    "    if response.errors:\n",
    "        raise ValueError('Um erro ocorreu', response.errors)\n",
    "\n",
    "    return response"
   ]
  },
  {
   "cell_type": "markdown",
   "metadata": {},
   "source": [
    "### Pesquisando os usuários que serão desabilitados"
   ]
  },
  {
   "cell_type": "code",
   "execution_count": null,
   "metadata": {},
   "outputs": [],
   "source": [
    "# Configure os parametros e a query\n",
    "# Execute [Run] para testá-la\n",
    "# Nenhum usuário será modificado\n",
    "USERNAME = 'contratoca@email.com'\n",
    "LASTACTIVEDATE='2018-07-06'\n",
    "DISABLED='false'\n",
    "QUERY_CRITERIA ='(((Disabled = %s) AND (LastActiveDate < %s)) AND (UserName != %s))' % (DISABLED, LASTACTIVEDATE, USERNAME)\n",
    "\n",
    "index=0\n",
    "now = datetime.datetime.now()\n",
    "\n",
    "# Contém a lista de usuários\n",
    "try:\n",
    "    response=pesquisar_usuarios(QUERY_CRITERIA)\n",
    "except ValueError as err:\n",
    "    print(err.args)\n",
    "\n",
    "print ('%s;%s;%s;%s;%s;%s' % ('ObjectID', 'UserName', 'FirstName', 'LastName', 'LastLoginDate', 'Disabled'))\n",
    "for user in response:\n",
    "    index+=1\n",
    "    print ('%i;%s;%s;%s;%s;%s;%s' % (index, user.oid, user.UserName, user.FirstName, user.LastName, user.LastLoginDate, user.Disabled))\n",
    "\n",
    "print('\\n[%s] Total de usuários: %s' % (str(now), index))"
   ]
  },
  {
   "cell_type": "markdown",
   "metadata": {},
   "source": [
    "### <span style=\"color:red\">[ATENÇÃO]</span> Desabilitando os usuários"
   ]
  },
  {
   "cell_type": "code",
   "execution_count": null,
   "metadata": {},
   "outputs": [],
   "source": [
    "# Usando o resultado da pesquisa acima (variável response)\n",
    "# Ao executar [Run]\n",
    "# OS USUÁRIOS SERÃO ATUALIZADOS\n",
    "ans = input('Confirma? [S/N]: ')\n",
    "if ans.lower() == 's':\n",
    "    print('Desabilitando...')\n",
    "\n",
    "    index=0\n",
    "    now = datetime.datetime.now()\n",
    "\n",
    "    for user in response:\n",
    "        index+=1\n",
    "        # Atualiza um usuário e imprime o resultado\n",
    "        try:\n",
    "            print(atualizar_usuario_por_id(user.oid, 'true'))\n",
    "        except ValueError as err:\n",
    "            print(err.args)\n",
    "\n",
    "    print('\\n[%s] Total de usuários desabilitados: %s' % (str(now), index))\n",
    "else:\n",
    "    print('Cancelado...')"
   ]
  },
  {
   "cell_type": "markdown",
   "metadata": {},
   "source": [
    "## Referências"
   ]
  },
  {
   "cell_type": "markdown",
   "metadata": {},
   "source": [
    "* [RallyRestToolkitForPython](https://github.com/RallyTools/RallyRestToolkitForPython#getting-started)\n",
    "* [Rally Web Services API Documentation v2.0](https://rally1.rallydev.com/slm/doc/webservice/)\n",
    "* [CA Agile Central Web Services API Documentation v2.0](https://rally1.rallydev.com/slm/doc/webservice/?version=v2.0)\n",
    "* [Python toolkit for the Rally REST API](http://pyral.readthedocs.io/en/latest/overview.html)"
   ]
  }
 ],
 "metadata": {
  "kernelspec": {
   "display_name": "Python 3",
   "language": "python",
   "name": "python3"
  },
  "language_info": {
   "codemirror_mode": {
    "name": "ipython",
    "version": 3
   },
   "file_extension": ".py",
   "mimetype": "text/x-python",
   "name": "python",
   "nbconvert_exporter": "python",
   "pygments_lexer": "ipython3",
   "version": "3.6.5"
  }
 },
 "nbformat": 4,
 "nbformat_minor": 2
}

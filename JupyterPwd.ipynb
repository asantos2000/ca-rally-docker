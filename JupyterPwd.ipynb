{
 "cells": [
  {
   "cell_type": "code",
   "execution_count": 3,
   "metadata": {},
   "outputs": [
    {
     "name": "stdout",
     "output_type": "stream",
     "text": [
      "===========================================================================\n",
      "Setting Jupyter additional configuration\n",
      "===========================================================================\n",
      "Please set a strong password\n",
      "Enter password: ········\n",
      "Verify password: ········\n",
      "===========================================================================\n",
      "Following will be added to /Users/anderson/.jupyter/jupyter_notebook_config.py \n",
      " \n",
      "  # Start of lines added by jupyter-password.py \n",
      "  c.NotebookApp.password = u'sha1:53842b058c54:4e5297fe60053bfaa06ac2ad2600c925b62e648c' \n",
      "  c.NotebookApp.open_browser = False \n",
      "  # End lines added by jupyter-passwordd.py \n",
      "===========================================================================\n"
     ]
    }
   ],
   "source": [
    "# Script to create a password for the Jupyter notebook configuration \n",
    "#\n",
    "# Written by Pieter de Rijk <pieter@de-rijk.com>\n",
    "#\n",
    "\n",
    "from notebook.auth import passwd \n",
    "import os\n",
    "\n",
    "jupyter_config = os.path.expanduser('~/.jupyter/jupyter_notebook_config.py')\n",
    "line = \"===========================================================================\"\n",
    "\n",
    "print (line)\n",
    "print (\"Setting Jupyter additional configuration\")\n",
    "print (line)\n",
    "print (\"Please set a strong password\")\n",
    "pwhash = passwd()\n",
    "print (line)\n",
    "print (\"Following will be added to %s \" % (jupyter_config))\n",
    "\n",
    "jupyter_comment_start = \"# Start of lines added by jupyter-password.py\"\n",
    "jupyter_comment_end = \"# End lines added by jupyter-passwordd.py\"\n",
    "jupyter_passwd_line = \"c.NotebookApp.password = u'%s'\" % (pwhash) \n",
    "jupyter_no_browser = \"c.NotebookApp.open_browser = False\"\n",
    "\n",
    "print (\" \")\n",
    "print (\"  %s \" % (jupyter_comment_start))\n",
    "print (\"  %s \" % (jupyter_passwd_line))\n",
    "print (\"  %s \" % (jupyter_no_browser))\n",
    "print (\"  %s \" % (jupyter_comment_end))\n",
    "\n",
    "print (line)\n",
    "\n",
    "with open(jupyter_config, 'a') as file:\n",
    "    file.write('\\n')\n",
    "    file.write(jupyter_comment_start + '\\n')\n",
    "    file.write(jupyter_passwd_line + '\\n')\n",
    "    file.write(jupyter_no_browser + '\\n')\n",
    "    file.write(jupyter_comment_end + '\\n')"
   ]
  },
  {
   "cell_type": "code",
   "execution_count": null,
   "metadata": {},
   "outputs": [],
   "source": []
  }
 ],
 "metadata": {
  "kernelspec": {
   "display_name": "Python 3",
   "language": "python",
   "name": "python3"
  },
  "language_info": {
   "codemirror_mode": {
    "name": "ipython",
    "version": 3
   },
   "file_extension": ".py",
   "mimetype": "text/x-python",
   "name": "python",
   "nbconvert_exporter": "python",
   "pygments_lexer": "ipython3",
   "version": "3.6.4"
  }
 },
 "nbformat": 4,
 "nbformat_minor": 2
}

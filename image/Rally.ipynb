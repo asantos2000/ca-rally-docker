{
 "cells": [
  {
   "cell_type": "code",
   "execution_count": 1,
   "metadata": {},
   "outputs": [],
   "source": [
    "import sys\n",
    "\n",
    "from pyral import Rally, rallyWorkset\n",
    "\n",
    "sys.stdout = open('/dev/stdout', 'w')\n",
    "\n",
    "SERVER='rally1.rallydev.com'\n",
    "USER='patricia.massaut@kroton.com.br'\n",
    "PASSWORD='Massaut@85'\n",
    "WORKSPACE='/workspace/205593520656'\n",
    "PROJECT=''\n",
    "APIKEY='TkaqnD83SNSVz68uJvBioJYQdxp8z021vV7zN7xFJiQ'\n",
    "\n",
    "rally = Rally(SERVER, USER, PASSWORD)\n",
    "rally.enableLogging('rally.simple-use.log')"
   ]
  },
  {
   "cell_type": "code",
   "execution_count": 11,
   "metadata": {},
   "outputs": [],
   "source": [
    "workspaces = rally.getWorkspaces()\n",
    "for wksp in workspaces:\n",
    "    print (\"%s %s\" % (wksp.oid, wksp.Name))\n",
    "    projects = rally.getProjects(workspace=wksp.Name)\n",
    "    for proj in projects:\n",
    "        print (\"    %12.12s  %s\" % (proj.oid, proj.Name))"
   ]
  },
  {
   "cell_type": "code",
   "execution_count": 12,
   "metadata": {},
   "outputs": [],
   "source": [
    "print ('Ola')"
   ]
  },
  {
   "cell_type": "code",
   "execution_count": null,
   "metadata": {},
   "outputs": [],
   "source": []
  }
 ],
 "metadata": {
  "kernelspec": {
   "display_name": "Python 3",
   "language": "python",
   "name": "python3"
  },
  "language_info": {
   "codemirror_mode": {
    "name": "ipython",
    "version": 3
   },
   "file_extension": ".py",
   "mimetype": "text/x-python",
   "name": "python",
   "nbconvert_exporter": "python",
   "pygments_lexer": "ipython3",
   "version": "3.6.5"
  }
 },
 "nbformat": 4,
 "nbformat_minor": 2
}

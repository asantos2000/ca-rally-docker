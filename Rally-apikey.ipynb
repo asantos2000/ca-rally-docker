{
 "cells": [
  {
   "cell_type": "markdown",
   "metadata": {},
   "source": [
    "## Rally"
   ]
  },
  {
   "cell_type": "markdown",
   "metadata": {},
   "source": [
    "### Verificando instalação"
   ]
  },
  {
   "cell_type": "code",
   "execution_count": null,
   "metadata": {},
   "outputs": [],
   "source": [
    "!python -V\n",
    "# Python 3.6.5\n",
    "\n",
    "import requests\n",
    "import pyral\n",
    "pyral.__version__\n",
    "# (1, 4, 1)"
   ]
  },
  {
   "cell_type": "markdown",
   "metadata": {},
   "source": [
    "### Obtem token"
   ]
  },
  {
   "cell_type": "markdown",
   "metadata": {},
   "source": [
    "> Código gerado pelo [Postman](https://www.getpostman.com/)"
   ]
  },
  {
   "cell_type": "code",
   "execution_count": null,
   "metadata": {},
   "outputs": [],
   "source": [
    "import requests\n",
    "\n",
    "url = \"https://rally1.rallydev.com/slm/webservice/v2.0/security/authorize\"\n",
    "\n",
    "headers = {\n",
    "    'Authorization': \"Basic <user-password-digest>,\n",
    "    'Cache-Control': \"no-cache\",\n",
    "    'Postman-Token': \"6c82ea0f-f73b-47f2-8b68-dd64923078aa\"\n",
    "    }\n",
    "\n",
    "response = requests.request(\"GET\", url, headers=headers)\n",
    "\n",
    "print(response.text)"
   ]
  },
  {
   "cell_type": "code",
   "execution_count": null,
   "metadata": {},
   "outputs": [],
   "source": [
    "import json\n",
    "\n",
    "json_data = json.loads(response.text)\n",
    "APIKEY = (json_data['OperationResult']['SecurityToken'])\n",
    "print (APIKEY)"
   ]
  },
  {
   "cell_type": "markdown",
   "metadata": {},
   "source": [
    "### Connecta no servidor"
   ]
  },
  {
   "cell_type": "code",
   "execution_count": null,
   "metadata": {},
   "outputs": [],
   "source": [
    "import sys\n",
    "\n",
    "from pyral import Rally, rallyWorkset\n",
    "\n",
    "SERVER='rally1.rallydev.com'\n",
    "WORKSPACE='your-workspace'\n",
    "PROJECT='your-project'\n",
    "\n",
    "rally = Rally(SERVER, apikey=APIKEY, workspace=WORKSPACE, project=PROJECT)\n",
    "\n",
    "print ('Connected...')"
   ]
  },
  {
   "cell_type": "markdown",
   "metadata": {},
   "source": [
    "### Retorna todos os workspaces"
   ]
  },
  {
   "cell_type": "code",
   "execution_count": null,
   "metadata": {},
   "outputs": [],
   "source": [
    "workspaces = rally.getWorkspaces()\n",
    "for wksp in workspaces:\n",
    "    print (\"%s %s\" % (wksp.oid, wksp.Name))\n",
    "    projects = rally.getProjects(workspace=wksp.Name)\n",
    "    for proj in projects:\n",
    "        print (\"    %12.12s  %s\" % (proj.oid, proj.Name))"
   ]
  },
  {
   "cell_type": "markdown",
   "metadata": {},
   "source": [
    "### Recupera a lista de usuários de um workspace"
   ]
  },
  {
   "cell_type": "code",
   "execution_count": null,
   "metadata": {},
   "outputs": [],
   "source": [
    "all_users = rally.getAllUsers()\n",
    "print (\"ObjectID;Name;UserName;Disabled\")\n",
    "for user in all_users:\n",
    "    tz = user.UserProfile.TimeZone or 'default'\n",
    "    role = user.Role or '-No Role-'\n",
    "    values = (int(user.oid), user.Name, user.UserName, user.Disabled)\n",
    "    print (\"%s;%s;%s;%s\" % values)"
   ]
  },
  {
   "cell_type": "markdown",
   "metadata": {},
   "source": [
    "### Buscar usuário por username"
   ]
  },
  {
   "cell_type": "code",
   "execution_count": null,
   "metadata": {},
   "outputs": [],
   "source": [
    "USERNAME = '<user-name>'\n",
    "query_criteria = 'UserName = \"%s\"' % USERNAME\n",
    "response = rally.get('User', fetch=True, query=query_criteria)\n",
    "if response.errors:\n",
    "    sys.stdout.write(\"\\n\".join(errors))\n",
    "    sys.exit(1)\n",
    "for user in response:  # there should only be one qualifying TestCase\n",
    "    print (\"%s %s %s\" % (user.Name, user.Disabled, user.oid))"
   ]
  },
  {
   "cell_type": "markdown",
   "metadata": {},
   "source": [
    "### Atualizar usuário por id"
   ]
  },
  {
   "cell_type": "code",
   "execution_count": null,
   "metadata": {},
   "outputs": [],
   "source": [
    "# target_date must be in ISO-8601 format \"YYYY-MM-DDThh:mm:ssZ\"\n",
    "\n",
    "user_data = { \n",
    "              \"ObjectID\" : \"<object-id>\",\n",
    "              \"Disabled\" : \"true\"\n",
    "            }\n",
    "try:\n",
    "    user = rally.update('User', user_data)\n",
    "except Exception as details:\n",
    "    sys.stderr.write('ERROR: %s \\n' % details)\n",
    "    sys.exit(1)\n",
    "\n",
    "print (\"User %s updated to Disabled=%s\" % (user.UserName, user.Disabled))"
   ]
  },
  {
   "cell_type": "markdown",
   "metadata": {},
   "source": [
    "## Referências"
   ]
  },
  {
   "cell_type": "markdown",
   "metadata": {},
   "source": [
    "* [RallyRestToolkitForPython](https://github.com/RallyTools/RallyRestToolkitForPython#getting-started)\n",
    "* [Rally Web Services API Documentation v2.0](https://rally1.rallydev.com/slm/doc/webservice/)"
   ]
  }
 ],
 "metadata": {
  "kernelspec": {
   "display_name": "Python 3",
   "language": "python",
   "name": "python3"
  },
  "language_info": {
   "codemirror_mode": {
    "name": "ipython",
    "version": 3
   },
   "file_extension": ".py",
   "mimetype": "text/x-python",
   "name": "python",
   "nbconvert_exporter": "python",
   "pygments_lexer": "ipython3",
   "version": "3.6.5"
  }
 },
 "nbformat": 4,
 "nbformat_minor": 2
}
